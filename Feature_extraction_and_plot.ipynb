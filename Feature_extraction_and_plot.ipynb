{
 "cells": [
  {
   "cell_type": "markdown",
   "metadata": {},
   "source": [
    "## Train the model based Using YOLOv8:"
   ]
  },
  {
   "cell_type": "code",
   "execution_count": 2,
   "metadata": {},
   "outputs": [],
   "source": [
    "##first let's import our library \n",
    "import ultralytics\n",
    "from ultralytics import YOLO\n",
    "\n",
    "model = YOLO('yolov8.pt')  # load the pretraind model or we can simply use this command for training from scratch 'model = YOLO('yolov8.yaml')\n",
    "model.train(data=\"path/to/yaml\",val=False,epochs=300) # start training ! specify the parameters as you want epochs , batch seze,..."
   ]
  },
  {
   "cell_type": "markdown",
   "metadata": {},
   "source": [
    "## validate your Model"
   ]
  },
  {
   "cell_type": "code",
   "execution_count": null,
   "metadata": {},
   "outputs": [],
   "source": [
    "results = model.val(data='path/to/yaml') ##Validate your model "
   ]
  },
  {
   "cell_type": "markdown",
   "metadata": {},
   "source": [
    "## Feature extraction :"
   ]
  },
  {
   "cell_type": "code",
   "execution_count": null,
   "metadata": {},
   "outputs": [],
   "source": [
    "import torch\n",
    "from torchvision import transforms\n",
    "from PIL import Image, ImageDraw\n",
    "from pathlib import Path\n",
    "from ultralytics import YOLO\n",
    "import numpy as np\n",
    "import matplotlib.pyplot as plt\n",
    "import cv2\n",
    "import io\n",
    "\n"
   ]
  },
  {
   "cell_type": "code",
   "execution_count": 4,
   "metadata": {},
   "outputs": [],
   "source": [
    "def hook_fn(module, input, output):\n",
    "    intermediate_features.append(output)\n",
    "\n",
    "# Define feature extraction function\n",
    "def extract_features(model, img, layer_index=22):\n",
    "    global intermediate_features\n",
    "    intermediate_features = []\n",
    "    hook = model.model.model[layer_index].cv3[1][2].register_forward_hook(hook_fn) ## Here you can modify ti choose which layer you want to extract ie hook = model.model.model[layer_index].register_forward_hook(hook_fn)\n",
    "    with torch.no_grad():\n",
    "        model(img)\n",
    "    hook.remove()\n",
    "    return intermediate_features[0]  # Access the first element of the list\n",
    "\n",
    "def preprocess_image(img_path):\n",
    "    transform = transforms.Compose([\n",
    "        transforms.Resize((640, 640)),\n",
    "        transforms.Grayscale(num_output_channels=3),  # Convert to RGB\n",
    "        transforms.ToTensor(),\n",
    "        transforms.Normalize(mean=0., std=1.)\n",
    "    ])\n",
    "    img = Image.open(img_path)\n",
    "    img = transform(img)\n",
    "    img = img.unsqueeze(0)\n",
    "    return img\n",
    "\n",
    "\n",
    "\n",
    "img = 'path/to/image'\n",
    "model = YOLO('path/to/best/weights/on/folder/best.pt')\n",
    "img = preprocess_image(img)\n",
    "feature_extracted = extract_features(img,model,layer_index= 12) #set on perfer feature\n"
   ]
  },
  {
   "cell_type": "markdown",
   "metadata": {},
   "source": [
    "## Plot the feature extracted:"
   ]
  },
  {
   "cell_type": "code",
   "execution_count": null,
   "metadata": {},
   "outputs": [],
   "source": [
    "def extract_and_plot_features(image_dir, layer_index=21, channel_index=5):\n",
    "    for img_path in Path(image_dir).glob('*.jpg'):\n",
    "        img = preprocess_image(img_path)\n",
    "        features = extract_features(model, img, layer_index)\n",
    "\n",
    "        # Print the shape of the features\n",
    "        print(f\"Features shape for {img_path.name}: {features.shape}\")\n",
    "\n",
    "        # Plot the features as a heatmap for a specific channel\n",
    "        plt.figure(figsize=(10, 5))\n",
    "        sns.heatmap(features[0][channel_index].cpu().numpy(), cmap='viridis', annot=False)\n",
    "        plt.title(f'Features for {img_path.name} - Layer {layer_index} - Channel {channel_index}')\n",
    "        plt.show()"
   ]
  },
  {
   "cell_type": "markdown",
   "metadata": {},
   "source": []
  }
 ],
 "metadata": {
  "kernelspec": {
   "display_name": "Python 3",
   "language": "python",
   "name": "python3"
  },
  "language_info": {
   "codemirror_mode": {
    "name": "ipython",
    "version": 3
   },
   "file_extension": ".py",
   "mimetype": "text/x-python",
   "name": "python",
   "nbconvert_exporter": "python",
   "pygments_lexer": "ipython3",
   "version": "3.11.6"
  }
 },
 "nbformat": 4,
 "nbformat_minor": 2
}
